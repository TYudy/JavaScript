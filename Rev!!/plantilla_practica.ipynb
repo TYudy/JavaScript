{
 "cells": [
  {
   "cell_type": "markdown",
   "metadata": {},
   "source": [
    "# Trabajo Práctico con Pandas\n",
    "\n",
    "En este trabajo práctico, exploraremos el uso de la biblioteca Pandas para el análisis y manipulación de datos en un data set ##TODO.\n",
    "\n",
    "(Los puedes encontrar en los recursos del curso o en el siguiente enlace :  )\n",
    "\n",
    "## Objetivos del Trabajo Práctico\n",
    "\n",
    "- Exploración básica de datos con Pandas.\n",
    "- Agrupación y agregación para el análisis de datos.\n",
    "- Transformaciones y sus utilidades.\n",
    "- Visualización básica.\n",
    "- Un poco de la siguiente clase 🔮\n",
    "\n",
    "¡Empecemos a Analizar!\n"
   ]
  },
  {
   "cell_type": "markdown",
   "metadata": {},
   "source": [
    "---\n"
   ]
  },
  {
   "cell_type": "markdown",
   "metadata": {},
   "source": [
    "## Exploración básica\n",
    "\n",
    "Para comenzar con el análisis, vamos a leer los datos. \n",
    "\n",
    "Además, una buena manera de empezar a analizar es dar un vistazo a la estructura del dataframe. "
   ]
  },
  {
   "cell_type": "code",
   "execution_count": null,
   "metadata": {},
   "outputs": [],
   "source": []
  },
  {
   "cell_type": "markdown",
   "metadata": {},
   "source": [
    "También conviene utilizar las funciones nativas de Pandas para obtener un análisis rápido de los datos"
   ]
  },
  {
   "cell_type": "code",
   "execution_count": null,
   "metadata": {},
   "outputs": [],
   "source": []
  },
  {
   "cell_type": "code",
   "execution_count": null,
   "metadata": {},
   "outputs": [],
   "source": []
  },
  {
   "cell_type": "markdown",
   "metadata": {},
   "source": [
    "##### Pero ¿Realmente es la fecha de tipo numerico?\n",
    "Opciones de parseo para fecha:\n",
    "- Opcion 1: Categórica\n",
    "- Opción 2: Fecha\n",
    "- Opción 3: Categórica ordinal\n"
   ]
  },
  {
   "cell_type": "code",
   "execution_count": null,
   "metadata": {},
   "outputs": [],
   "source": []
  },
  {
   "cell_type": "code",
   "execution_count": null,
   "metadata": {},
   "outputs": [],
   "source": []
  },
  {
   "cell_type": "markdown",
   "metadata": {},
   "source": [
    "----\n",
    "## Agrupación y Agregación para el análisis de datos\n",
    "Pandas tiene  herramientas poderosas que permiten a los usuarios de Python realizar análisis de datos complejos de manera eficiente y efectiva. Estas operaciones son fundamentales en el proceso de análisis de datos, especialmente cuando se trabaja con grandes conjuntos de datos. "
   ]
  },
  {
   "cell_type": "code",
   "execution_count": null,
   "metadata": {},
   "outputs": [],
   "source": []
  },
  {
   "cell_type": "code",
   "execution_count": null,
   "metadata": {},
   "outputs": [],
   "source": []
  },
  {
   "cell_type": "markdown",
   "metadata": {},
   "source": [
    "### Groupby\n",
    "Okey, Ya sabemos filtrar datos, ahora ¿Cómo los resumimos?"
   ]
  },
  {
   "cell_type": "code",
   "execution_count": null,
   "metadata": {},
   "outputs": [],
   "source": []
  },
  {
   "cell_type": "code",
   "execution_count": null,
   "metadata": {},
   "outputs": [],
   "source": []
  },
  {
   "cell_type": "code",
   "execution_count": null,
   "metadata": {},
   "outputs": [],
   "source": []
  },
  {
   "cell_type": "markdown",
   "metadata": {},
   "source": [
    "### Hallemos ahora correlaciones ..."
   ]
  },
  {
   "cell_type": "code",
   "execution_count": null,
   "metadata": {},
   "outputs": [],
   "source": []
  },
  {
   "cell_type": "code",
   "execution_count": null,
   "metadata": {},
   "outputs": [],
   "source": []
  },
  {
   "cell_type": "code",
   "execution_count": null,
   "metadata": {},
   "outputs": [],
   "source": []
  },
  {
   "cell_type": "code",
   "execution_count": null,
   "metadata": {},
   "outputs": [],
   "source": []
  }
 ],
 "metadata": {
  "kernelspec": {
   "display_name": "base",
   "language": "python",
   "name": "python3"
  },
  "language_info": {
   "codemirror_mode": {
    "name": "ipython",
    "version": 3
   },
   "file_extension": ".py",
   "mimetype": "text/x-python",
   "name": "python",
   "nbconvert_exporter": "python",
   "pygments_lexer": "ipython3",
   "version": "3.11.7"
  }
 },
 "nbformat": 4,
 "nbformat_minor": 2
}
